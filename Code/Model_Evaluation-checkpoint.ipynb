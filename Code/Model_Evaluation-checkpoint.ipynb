{
 "cells": [
  {
   "cell_type": "code",
   "execution_count": 1,
   "metadata": {
    "colab": {
     "base_uri": "https://localhost:8080/"
    },
    "executionInfo": {
     "elapsed": 1503,
     "status": "ok",
     "timestamp": 1618832726396,
     "user": {
      "displayName": "Rohan Prafull",
      "photoUrl": "https://lh3.googleusercontent.com/a-/AOh14Gjfly_yQoEIQa2YnUAj9BXClskzZuJm858PGkfURw=s64",
      "userId": "17787644133577688799"
     },
     "user_tz": -330
    },
    "id": "5K0FJ1_u7SOB",
    "outputId": "4d79c6e0-39a2-4eeb-c18e-69c37020bd67"
   },
   "outputs": [
    {
     "name": "stdout",
     "output_type": "stream",
     "text": [
      "/content/drive/MyDrive/tf2/object_detection\n"
     ]
    }
   ],
   "source": [
    "%cd '/content/drive/MyDrive/tf2/object_detection/'"
   ]
  },
  {
   "cell_type": "code",
   "execution_count": null,
   "metadata": {
    "id": "aJQvaknZ7dM1"
   },
   "outputs": [],
   "source": [
    "!pip install lvis\n",
    "!pip install tf-models-official\n",
    "!pip install tf_slim"
   ]
  },
  {
   "cell_type": "markdown",
   "metadata": {
    "id": "BjxtnaYaEpsU"
   },
   "source": [
    "## **Performance of model**"
   ]
  },
  {
   "cell_type": "code",
   "execution_count": null,
   "metadata": {
    "colab": {
     "base_uri": "https://localhost:8080/"
    },
    "id": "nrCfO9587hDw",
    "outputId": "dca40055-0efe-4bf0-d05b-8aa64b34538f"
   },
   "outputs": [
    {
     "name": "stdout",
     "output_type": "stream",
     "text": [
      "2021-04-19 11:45:49.217398: I tensorflow/stream_executor/platform/default/dso_loader.cc:49] Successfully opened dynamic library libcudart.so.11.0\n",
      "WARNING:tensorflow:Forced number of epochs for all eval validations to be 1.\n",
      "W0419 11:46:27.093315 139903699560320 model_lib_v2.py:1063] Forced number of epochs for all eval validations to be 1.\n",
      "INFO:tensorflow:Maybe overwriting sample_1_of_n_eval_examples: None\n",
      "I0419 11:46:27.093669 139903699560320 config_util.py:552] Maybe overwriting sample_1_of_n_eval_examples: None\n",
      "INFO:tensorflow:Maybe overwriting use_bfloat16: False\n",
      "I0419 11:46:27.093766 139903699560320 config_util.py:552] Maybe overwriting use_bfloat16: False\n",
      "INFO:tensorflow:Maybe overwriting eval_num_epochs: 1\n",
      "I0419 11:46:27.093847 139903699560320 config_util.py:552] Maybe overwriting eval_num_epochs: 1\n",
      "WARNING:tensorflow:Expected number of evaluation epochs is 1, but instead encountered `eval_on_train_input_config.num_epochs` = 0. Overwriting `num_epochs` to 1.\n",
      "W0419 11:46:27.093971 139903699560320 model_lib_v2.py:1084] Expected number of evaluation epochs is 1, but instead encountered `eval_on_train_input_config.num_epochs` = 0. Overwriting `num_epochs` to 1.\n",
      "2021-04-19 11:46:27.112869: I tensorflow/compiler/jit/xla_cpu_device.cc:41] Not creating XLA devices, tf_xla_enable_xla_devices not set\n",
      "2021-04-19 11:46:27.138678: I tensorflow/stream_executor/platform/default/dso_loader.cc:49] Successfully opened dynamic library libcuda.so.1\n",
      "2021-04-19 11:46:27.205999: E tensorflow/stream_executor/cuda/cuda_driver.cc:328] failed call to cuInit: CUDA_ERROR_NO_DEVICE: no CUDA-capable device is detected\n",
      "2021-04-19 11:46:27.206061: I tensorflow/stream_executor/cuda/cuda_diagnostics.cc:156] kernel driver does not appear to be running on this host (7a9bfc8910eb): /proc/driver/nvidia/version does not exist\n",
      "2021-04-19 11:46:27.206617: I tensorflow/compiler/jit/xla_gpu_device.cc:99] Not creating XLA devices, tf_xla_enable_xla_devices not set\n",
      "INFO:tensorflow:Reading unweighted datasets: ['test.record']\n",
      "I0419 11:46:27.597515 139903699560320 dataset_builder.py:163] Reading unweighted datasets: ['test.record']\n",
      "INFO:tensorflow:Reading record datasets for input file: ['test.record']\n",
      "I0419 11:46:27.597857 139903699560320 dataset_builder.py:80] Reading record datasets for input file: ['test.record']\n",
      "INFO:tensorflow:Number of filenames to read: 1\n",
      "I0419 11:46:27.597957 139903699560320 dataset_builder.py:81] Number of filenames to read: 1\n",
      "WARNING:tensorflow:num_readers has been reduced to 1 to match input file shards.\n",
      "W0419 11:46:27.598021 139903699560320 dataset_builder.py:88] num_readers has been reduced to 1 to match input file shards.\n",
      "WARNING:tensorflow:From /content/drive/My Drive/tf2/object_detection/object_detection/builders/dataset_builder.py:105: parallel_interleave (from tensorflow.python.data.experimental.ops.interleave_ops) is deprecated and will be removed in a future version.\n",
      "Instructions for updating:\n",
      "Use `tf.data.Dataset.interleave(map_func, cycle_length, block_length, num_parallel_calls=tf.data.AUTOTUNE)` instead. If sloppy execution is desired, use `tf.data.Options.experimental_deterministic`.\n",
      "W0419 11:46:27.724326 139903699560320 deprecation.py:339] From /content/drive/My Drive/tf2/object_detection/object_detection/builders/dataset_builder.py:105: parallel_interleave (from tensorflow.python.data.experimental.ops.interleave_ops) is deprecated and will be removed in a future version.\n",
      "Instructions for updating:\n",
      "Use `tf.data.Dataset.interleave(map_func, cycle_length, block_length, num_parallel_calls=tf.data.AUTOTUNE)` instead. If sloppy execution is desired, use `tf.data.Options.experimental_deterministic`.\n",
      "WARNING:tensorflow:From /content/drive/My Drive/tf2/object_detection/object_detection/builders/dataset_builder.py:237: DatasetV1.map_with_legacy_function (from tensorflow.python.data.ops.dataset_ops) is deprecated and will be removed in a future version.\n",
      "Instructions for updating:\n",
      "Use `tf.data.Dataset.map()\n",
      "W0419 11:46:27.771862 139903699560320 deprecation.py:339] From /content/drive/My Drive/tf2/object_detection/object_detection/builders/dataset_builder.py:237: DatasetV1.map_with_legacy_function (from tensorflow.python.data.ops.dataset_ops) is deprecated and will be removed in a future version.\n",
      "Instructions for updating:\n",
      "Use `tf.data.Dataset.map()\n",
      "WARNING:tensorflow:From /usr/local/lib/python3.7/dist-packages/tensorflow/python/util/dispatch.py:201: sparse_to_dense (from tensorflow.python.ops.sparse_ops) is deprecated and will be removed in a future version.\n",
      "Instructions for updating:\n",
      "Create a `tf.sparse.SparseTensor` and use `tf.sparse.to_dense` instead.\n",
      "W0419 11:46:32.831091 139903699560320 deprecation.py:339] From /usr/local/lib/python3.7/dist-packages/tensorflow/python/util/dispatch.py:201: sparse_to_dense (from tensorflow.python.ops.sparse_ops) is deprecated and will be removed in a future version.\n",
      "Instructions for updating:\n",
      "Create a `tf.sparse.SparseTensor` and use `tf.sparse.to_dense` instead.\n",
      "WARNING:tensorflow:From /content/drive/My Drive/tf2/object_detection/object_detection/inputs.py:282: to_float (from tensorflow.python.ops.math_ops) is deprecated and will be removed in a future version.\n",
      "Instructions for updating:\n",
      "Use `tf.cast` instead.\n",
      "W0419 11:46:35.140380 139903699560320 deprecation.py:339] From /content/drive/My Drive/tf2/object_detection/object_detection/inputs.py:282: to_float (from tensorflow.python.ops.math_ops) is deprecated and will be removed in a future version.\n",
      "Instructions for updating:\n",
      "Use `tf.cast` instead.\n",
      "INFO:tensorflow:Waiting for new checkpoint at training\n",
      "I0419 11:46:39.396602 139903699560320 checkpoint_utils.py:139] Waiting for new checkpoint at training\n",
      "INFO:tensorflow:Found new checkpoint at training/ckpt-51\n",
      "I0419 11:46:39.593860 139903699560320 checkpoint_utils.py:148] Found new checkpoint at training/ckpt-51\n",
      "/usr/local/lib/python3.7/dist-packages/tensorflow/python/keras/backend.py:434: UserWarning: `tf.keras.backend.set_learning_phase` is deprecated and will be removed after 2020-10-11. To update it, simply pass a True/False value to the `training` argument of the `__call__` method of your layer or model.\n",
      "  warnings.warn('`tf.keras.backend.set_learning_phase` is deprecated and '\n",
      "2021-04-19 11:46:41.045396: I tensorflow/compiler/mlir/mlir_graph_optimization_pass.cc:116] None of the MLIR optimization passes are enabled (registered 2)\n",
      "2021-04-19 11:46:41.046635: I tensorflow/core/platform/profile_utils/cpu_utils.cc:112] CPU Frequency: 2299995000 Hz\n",
      "INFO:tensorflow:depth of additional conv before box predictor: 0\n",
      "I0419 11:46:51.717291 139903699560320 convolutional_keras_box_predictor.py:154] depth of additional conv before box predictor: 0\n",
      "INFO:tensorflow:depth of additional conv before box predictor: 0\n",
      "I0419 11:46:51.717838 139903699560320 convolutional_keras_box_predictor.py:154] depth of additional conv before box predictor: 0\n",
      "INFO:tensorflow:depth of additional conv before box predictor: 0\n",
      "I0419 11:46:51.718088 139903699560320 convolutional_keras_box_predictor.py:154] depth of additional conv before box predictor: 0\n",
      "INFO:tensorflow:depth of additional conv before box predictor: 0\n",
      "I0419 11:46:51.718285 139903699560320 convolutional_keras_box_predictor.py:154] depth of additional conv before box predictor: 0\n",
      "INFO:tensorflow:depth of additional conv before box predictor: 0\n",
      "I0419 11:46:51.718493 139903699560320 convolutional_keras_box_predictor.py:154] depth of additional conv before box predictor: 0\n",
      "INFO:tensorflow:depth of additional conv before box predictor: 0\n",
      "I0419 11:46:51.718690 139903699560320 convolutional_keras_box_predictor.py:154] depth of additional conv before box predictor: 0\n",
      "WARNING:tensorflow:From /content/drive/My Drive/tf2/object_detection/object_detection/eval_util.py:929: to_int64 (from tensorflow.python.ops.math_ops) is deprecated and will be removed in a future version.\n",
      "Instructions for updating:\n",
      "Use `tf.cast` instead.\n",
      "W0419 11:47:10.952265 139903699560320 deprecation.py:339] From /content/drive/My Drive/tf2/object_detection/object_detection/eval_util.py:929: to_int64 (from tensorflow.python.ops.math_ops) is deprecated and will be removed in a future version.\n",
      "Instructions for updating:\n",
      "Use `tf.cast` instead.\n",
      "INFO:tensorflow:Finished eval step 0\n",
      "I0419 11:47:10.957913 139903699560320 model_lib_v2.py:939] Finished eval step 0\n",
      "WARNING:tensorflow:From /content/drive/My Drive/tf2/object_detection/object_detection/utils/visualization_utils.py:617: py_func (from tensorflow.python.ops.script_ops) is deprecated and will be removed in a future version.\n",
      "Instructions for updating:\n",
      "tf.py_func is deprecated in TF V2. Instead, there are two\n",
      "    options available in V2.\n",
      "    - tf.py_function takes a python function which manipulates tf eager\n",
      "    tensors instead of numpy arrays. It's easy to convert a tf eager tensor to\n",
      "    an ndarray (just call tensor.numpy()) but having access to eager tensors\n",
      "    means `tf.py_function`s can use accelerators such as GPUs as well as\n",
      "    being differentiable using a gradient tape.\n",
      "    - tf.numpy_function maintains the semantics of the deprecated tf.py_func\n",
      "    (it is not differentiable, and manipulates numpy arrays). It drops the\n",
      "    stateful argument making all functions stateful.\n",
      "    \n",
      "W0419 11:47:11.268663 139903699560320 deprecation.py:339] From /content/drive/My Drive/tf2/object_detection/object_detection/utils/visualization_utils.py:617: py_func (from tensorflow.python.ops.script_ops) is deprecated and will be removed in a future version.\n",
      "Instructions for updating:\n",
      "tf.py_func is deprecated in TF V2. Instead, there are two\n",
      "    options available in V2.\n",
      "    - tf.py_function takes a python function which manipulates tf eager\n",
      "    tensors instead of numpy arrays. It's easy to convert a tf eager tensor to\n",
      "    an ndarray (just call tensor.numpy()) but having access to eager tensors\n",
      "    means `tf.py_function`s can use accelerators such as GPUs as well as\n",
      "    being differentiable using a gradient tape.\n",
      "    - tf.numpy_function maintains the semantics of the deprecated tf.py_func\n",
      "    (it is not differentiable, and manipulates numpy arrays). It drops the\n",
      "    stateful argument making all functions stateful.\n",
      "    \n",
      "INFO:tensorflow:Performing evaluation on 5 images.\n",
      "I0419 11:47:11.822770 139903699560320 coco_evaluation.py:293] Performing evaluation on 5 images.\n",
      "creating index...\n",
      "index created!\n",
      "INFO:tensorflow:Loading and preparing annotation results...\n",
      "I0419 11:47:11.823084 139903699560320 coco_tools.py:116] Loading and preparing annotation results...\n",
      "INFO:tensorflow:DONE (t=0.00s)\n",
      "I0419 11:47:11.823556 139903699560320 coco_tools.py:138] DONE (t=0.00s)\n",
      "creating index...\n",
      "index created!\n",
      "Running per image evaluation...\n",
      "Evaluate annotation type *bbox*\n",
      "DONE (t=0.02s).\n",
      "Accumulating evaluation results...\n",
      "DONE (t=0.01s).\n",
      " Average Precision  (AP) @[ IoU=0.50:0.95 | area=   all | maxDets=100 ] = 0.878\n",
      " Average Precision  (AP) @[ IoU=0.50      | area=   all | maxDets=100 ] = 1.000\n",
      " Average Precision  (AP) @[ IoU=0.75      | area=   all | maxDets=100 ] = 1.000\n",
      " Average Precision  (AP) @[ IoU=0.50:0.95 | area= small | maxDets=100 ] = -1.000\n",
      " Average Precision  (AP) @[ IoU=0.50:0.95 | area=medium | maxDets=100 ] = 0.901\n",
      " Average Precision  (AP) @[ IoU=0.50:0.95 | area= large | maxDets=100 ] = 0.928\n",
      " Average Recall     (AR) @[ IoU=0.50:0.95 | area=   all | maxDets=  1 ] = 0.883\n",
      " Average Recall     (AR) @[ IoU=0.50:0.95 | area=   all | maxDets= 10 ] = 0.883\n",
      " Average Recall     (AR) @[ IoU=0.50:0.95 | area=   all | maxDets=100 ] = 0.883\n",
      " Average Recall     (AR) @[ IoU=0.50:0.95 | area= small | maxDets=100 ] = -1.000\n",
      " Average Recall     (AR) @[ IoU=0.50:0.95 | area=medium | maxDets=100 ] = 0.900\n",
      " Average Recall     (AR) @[ IoU=0.50:0.95 | area= large | maxDets=100 ] = 0.933\n",
      "INFO:tensorflow:Eval metrics at step 50000\n",
      "I0419 11:47:11.859894 139903699560320 model_lib_v2.py:988] Eval metrics at step 50000\n",
      "INFO:tensorflow:\t+ DetectionBoxes_Precision/mAP: 0.878218\n",
      "I0419 11:47:11.861072 139903699560320 model_lib_v2.py:991] \t+ DetectionBoxes_Precision/mAP: 0.878218\n",
      "INFO:tensorflow:\t+ DetectionBoxes_Precision/mAP@.50IOU: 1.000000\n",
      "I0419 11:47:11.861755 139903699560320 model_lib_v2.py:991] \t+ DetectionBoxes_Precision/mAP@.50IOU: 1.000000\n",
      "INFO:tensorflow:\t+ DetectionBoxes_Precision/mAP@.75IOU: 1.000000\n",
      "I0419 11:47:11.862346 139903699560320 model_lib_v2.py:991] \t+ DetectionBoxes_Precision/mAP@.75IOU: 1.000000\n",
      "INFO:tensorflow:\t+ DetectionBoxes_Precision/mAP (small): -1.000000\n",
      "I0419 11:47:11.862935 139903699560320 model_lib_v2.py:991] \t+ DetectionBoxes_Precision/mAP (small): -1.000000\n",
      "INFO:tensorflow:\t+ DetectionBoxes_Precision/mAP (medium): 0.900990\n",
      "I0419 11:47:11.863511 139903699560320 model_lib_v2.py:991] \t+ DetectionBoxes_Precision/mAP (medium): 0.900990\n",
      "INFO:tensorflow:\t+ DetectionBoxes_Precision/mAP (large): 0.927723\n",
      "I0419 11:47:11.865085 139903699560320 model_lib_v2.py:991] \t+ DetectionBoxes_Precision/mAP (large): 0.927723\n",
      "INFO:tensorflow:\t+ DetectionBoxes_Recall/AR@1: 0.883333\n",
      "I0419 11:47:11.865841 139903699560320 model_lib_v2.py:991] \t+ DetectionBoxes_Recall/AR@1: 0.883333\n",
      "INFO:tensorflow:\t+ DetectionBoxes_Recall/AR@10: 0.883333\n",
      "I0419 11:47:11.866466 139903699560320 model_lib_v2.py:991] \t+ DetectionBoxes_Recall/AR@10: 0.883333\n",
      "INFO:tensorflow:\t+ DetectionBoxes_Recall/AR@100: 0.883333\n",
      "I0419 11:47:11.867046 139903699560320 model_lib_v2.py:991] \t+ DetectionBoxes_Recall/AR@100: 0.883333\n",
      "INFO:tensorflow:\t+ DetectionBoxes_Recall/AR@100 (small): -1.000000\n",
      "I0419 11:47:11.867663 139903699560320 model_lib_v2.py:991] \t+ DetectionBoxes_Recall/AR@100 (small): -1.000000\n",
      "INFO:tensorflow:\t+ DetectionBoxes_Recall/AR@100 (medium): 0.900000\n",
      "I0419 11:47:11.868260 139903699560320 model_lib_v2.py:991] \t+ DetectionBoxes_Recall/AR@100 (medium): 0.900000\n",
      "INFO:tensorflow:\t+ DetectionBoxes_Recall/AR@100 (large): 0.933333\n",
      "I0419 11:47:11.868877 139903699560320 model_lib_v2.py:991] \t+ DetectionBoxes_Recall/AR@100 (large): 0.933333\n",
      "INFO:tensorflow:\t+ Loss/localization_loss: 0.025129\n",
      "I0419 11:47:11.869426 139903699560320 model_lib_v2.py:991] \t+ Loss/localization_loss: 0.025129\n",
      "INFO:tensorflow:\t+ Loss/classification_loss: 0.076807\n",
      "I0419 11:47:11.869993 139903699560320 model_lib_v2.py:991] \t+ Loss/classification_loss: 0.076807\n",
      "INFO:tensorflow:\t+ Loss/regularization_loss: 0.078464\n",
      "I0419 11:47:11.870575 139903699560320 model_lib_v2.py:991] \t+ Loss/regularization_loss: 0.078464\n",
      "INFO:tensorflow:\t+ Loss/total_loss: 0.180401\n",
      "I0419 11:47:11.871124 139903699560320 model_lib_v2.py:991] \t+ Loss/total_loss: 0.180401\n",
      "INFO:tensorflow:Waiting for new checkpoint at training\n",
      "I0419 11:51:39.670290 139903699560320 checkpoint_utils.py:139] Waiting for new checkpoint at training\n"
     ]
    }
   ],
   "source": [
    "!python model_main_tf2.py --model_dir=training --pipeline_config_path=training/ssd_mobilenet_v2_320x320_coco17_tpu-8.config --checkpoint_dir=training"
   ]
  }
 ],
 "metadata": {
  "accelerator": "GPU",
  "colab": {
   "authorship_tag": "ABX9TyOqYAKRI9M+KU5YoPSOUJ89",
   "mount_file_id": "18dMaR_SYWBBGMLwDvRdtY74F-HzbGufT",
   "name": "Model_Evaluation.ipynb",
   "provenance": []
  },
  "kernelspec": {
   "display_name": "Python 3",
   "language": "python",
   "name": "python3"
  },
  "language_info": {
   "codemirror_mode": {
    "name": "ipython",
    "version": 3
   },
   "file_extension": ".py",
   "mimetype": "text/x-python",
   "name": "python",
   "nbconvert_exporter": "python",
   "pygments_lexer": "ipython3",
   "version": "3.7.3"
  }
 },
 "nbformat": 4,
 "nbformat_minor": 1
}
